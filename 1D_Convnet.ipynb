{
  "nbformat": 4,
  "nbformat_minor": 0,
  "metadata": {
    "colab": {
      "name": "1D Convnet.ipynb",
      "provenance": []
    },
    "kernelspec": {
      "name": "python3",
      "display_name": "Python 3"
    },
    "language_info": {
      "name": "python"
    }
  },
  "cells": [
    {
      "cell_type": "code",
      "execution_count": 1,
      "metadata": {
        "colab": {
          "base_uri": "https://localhost:8080/"
        },
        "id": "uNcWOnw0keQW",
        "outputId": "feb52f14-a4d8-46ad-e265-c2ae0f619afa"
      },
      "outputs": [
        {
          "output_type": "stream",
          "name": "stdout",
          "text": [
            "Loading data...\n",
            "Downloading data from https://storage.googleapis.com/tensorflow/tf-keras-datasets/imdb.npz\n",
            "17465344/17464789 [==============================] - 0s 0us/step\n",
            "17473536/17464789 [==============================] - 0s 0us/step\n",
            "25000 train sequences\n",
            "25000 test sequences\n",
            "Pad sequences (samples x time)\n",
            "x_train shape: (25000, 500)\n",
            "x_test shape: (25000, 500)\n"
          ]
        }
      ],
      "source": [
        "from tensorflow.keras.datasets import imdb\n",
        "from tensorflow.keras.preprocessing import sequence\n",
        "max_features = 10000\n",
        "max_len = 500\n",
        "print('Loading data...')\n",
        "(x_train, y_train), (x_test, y_test) = imdb.load_data(num_words=max_features)\n",
        "print(len(x_train), 'train sequences')\n",
        "print(len(x_test), 'test sequences')\n",
        "print('Pad sequences (samples x time)')\n",
        "x_train = sequence.pad_sequences(x_train, maxlen=max_len)\n",
        "x_test = sequence.pad_sequences(x_test, maxlen=max_len)\n",
        "print('x_train shape:', x_train.shape)\n",
        "print('x_test shape:', x_test.shape)"
      ]
    },
    {
      "cell_type": "code",
      "source": [
        "from tensorflow.keras.models import Sequential\n",
        "from tensorflow.keras import layers\n",
        "from tensorflow.keras.optimizers import RMSprop\n",
        "model = Sequential()\n",
        "model.add(layers.Embedding(max_features, 128, input_length=max_len))\n",
        "model.add(layers.Conv1D(32, 7, activation='relu'))\n",
        "model.add(layers.MaxPooling1D(5))\n",
        "model.add(layers.Conv1D(32, 7, activation='relu'))\n",
        "model.add(layers.GlobalMaxPooling1D())\n",
        "model.add(layers.Dense(1))\n",
        "model.summary()\n",
        "model.compile(optimizer=RMSprop(lr=1e-4),\n",
        "loss='binary_crossentropy',\n",
        "metrics=['acc'])\n",
        "history = model.fit(x_train, y_train,\n",
        "epochs=10,\n",
        "batch_size=128,\n",
        "validation_split=0.2)\n"
      ],
      "metadata": {
        "colab": {
          "base_uri": "https://localhost:8080/"
        },
        "id": "t2apJD7vpGcv",
        "outputId": "492f15c9-d35e-40d9-f9ec-e547cfc2b40f"
      },
      "execution_count": 2,
      "outputs": [
        {
          "metadata": {
            "tags": null
          },
          "name": "stdout",
          "output_type": "stream",
          "text": [
            "Model: \"sequential\"\n",
            "_________________________________________________________________\n",
            " Layer (type)                Output Shape              Param #   \n",
            "=================================================================\n",
            " embedding (Embedding)       (None, 500, 128)          1280000   \n",
            "                                                                 \n",
            " conv1d (Conv1D)             (None, 494, 32)           28704     \n",
            "                                                                 \n",
            " max_pooling1d (MaxPooling1D  (None, 98, 32)           0         \n",
            " )                                                               \n",
            "                                                                 \n",
            " conv1d_1 (Conv1D)           (None, 92, 32)            7200      \n",
            "                                                                 \n",
            " global_max_pooling1d (Globa  (None, 32)               0         \n",
            " lMaxPooling1D)                                                  \n",
            "                                                                 \n",
            " dense (Dense)               (None, 1)                 33        \n",
            "                                                                 \n",
            "=================================================================\n",
            "Total params: 1,315,937\n",
            "Trainable params: 1,315,937\n",
            "Non-trainable params: 0\n",
            "_________________________________________________________________\n",
            "Epoch 1/10\n"
          ]
        },
        {
          "metadata": {
            "tags": null
          },
          "name": "stderr",
          "output_type": "stream",
          "text": [
            "/usr/local/lib/python3.7/dist-packages/keras/optimizer_v2/rmsprop.py:130: UserWarning: The `lr` argument is deprecated, use `learning_rate` instead.\n",
            "  super(RMSprop, self).__init__(name, **kwargs)\n"
          ]
        },
        {
          "output_type": "stream",
          "name": "stdout",
          "text": [
            "157/157 [==============================] - 71s 447ms/step - loss: 3.6304 - acc: 0.4990 - val_loss: 0.6927 - val_acc: 0.5172\n",
            "Epoch 2/10\n",
            "157/157 [==============================] - 69s 438ms/step - loss: 0.6790 - acc: 0.6064 - val_loss: 0.6703 - val_acc: 0.6394\n",
            "Epoch 3/10\n",
            "157/157 [==============================] - 67s 424ms/step - loss: 0.6359 - acc: 0.7267 - val_loss: 0.6229 - val_acc: 0.7062\n",
            "Epoch 4/10\n",
            "157/157 [==============================] - 72s 458ms/step - loss: 0.5500 - acc: 0.7961 - val_loss: 0.5097 - val_acc: 0.7932\n",
            "Epoch 5/10\n",
            "157/157 [==============================] - 71s 453ms/step - loss: 0.4243 - acc: 0.8437 - val_loss: 0.4202 - val_acc: 0.8326\n",
            "Epoch 6/10\n",
            "157/157 [==============================] - 72s 461ms/step - loss: 0.3473 - acc: 0.8727 - val_loss: 0.3935 - val_acc: 0.8530\n",
            "Epoch 7/10\n",
            "157/157 [==============================] - 74s 470ms/step - loss: 0.3032 - acc: 0.8925 - val_loss: 0.4021 - val_acc: 0.8608\n",
            "Epoch 8/10\n",
            "157/157 [==============================] - 73s 466ms/step - loss: 0.2708 - acc: 0.9064 - val_loss: 0.4155 - val_acc: 0.8664\n",
            "Epoch 9/10\n",
            "157/157 [==============================] - 72s 459ms/step - loss: 0.2453 - acc: 0.9175 - val_loss: 0.4223 - val_acc: 0.8682\n",
            "Epoch 10/10\n",
            "157/157 [==============================] - 70s 445ms/step - loss: 0.2223 - acc: 0.9270 - val_loss: 0.4495 - val_acc: 0.8710\n"
          ]
        }
      ]
    },
    {
      "cell_type": "code",
      "source": [
        ""
      ],
      "metadata": {
        "id": "Ke_jNNZFpyfD"
      },
      "execution_count": null,
      "outputs": []
    }
  ]
}